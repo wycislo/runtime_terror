{
 "cells": [
  {
   "cell_type": "code",
   "execution_count": 1,
   "id": "8e841717",
   "metadata": {},
   "outputs": [],
   "source": [
    "import joblib\n",
    "x_scaler = joblib.load('WRscaler.gz')"
   ]
  },
  {
   "cell_type": "code",
   "execution_count": 5,
   "id": "e6f14cb7",
   "metadata": {},
   "outputs": [
    {
     "name": "stdout",
     "output_type": "stream",
     "text": [
      "How many Receptions does this player have for this season? 123\n",
      "What is the Player Receiving Yards for this season? 2000\n",
      "What is the Player Receiving Yards per Reception this season? 16.26\n",
      "What is the Player Receiving Yards per TD this season? 121\n",
      "How many times did this Player Fumble this season? 2\n"
     ]
    }
   ],
   "source": [
    "UReception = input(\"How many Receptions does this player have for this season? \")\n",
    "URY = input(\"What is the Player Receiving Yards for this season? \")\n",
    "URYR = input(\"What is the Player Receiving Yards per Reception this season? \")\n",
    "UReTD = input(\"What is the Player Receiving Yards per TD this season? \")\n",
    "UInter = input(\"How many times did this Player Fumble this season? \")\n",
    "\n",
    "UReception = float(UReception)\n",
    "URY = float(URY)\n",
    "URYR = float(URYR)\n",
    "UReTD = float(UReTD)\n",
    "UInter = int(UInter)"
   ]
  },
  {
   "cell_type": "code",
   "execution_count": 6,
   "id": "eaa9828c",
   "metadata": {},
   "outputs": [],
   "source": [
    "import pandas as pd\n",
    "\n",
    "datadict = {\n",
    "    \"Receptions\": UReception,\n",
    "    \"Receiving Yards\": URY,\n",
    "    \"Receiving Yards per Reception\": URYR,\n",
    "    \"Receiving Yards per TD\": UReTD,\n",
    "    \"Fumbles\":UInter\n",
    "}\n",
    "\n",
    "xdf = pd.DataFrame([datadict])\n",
    "xdf_scaled = x_scaler.transform(xdf)"
   ]
  },
  {
   "cell_type": "code",
   "execution_count": 7,
   "id": "dd3ab64c",
   "metadata": {},
   "outputs": [
    {
     "name": "stdout",
     "output_type": "stream",
     "text": [
      "[273.04759889]\n"
     ]
    }
   ],
   "source": [
    "import pickle \n",
    "\n",
    "# load the model from disk\n",
    "filename = 'Widereceiver_trained.sav'\n",
    "loaded_model = pickle.load(open(filename, 'rb'))\n",
    "#result = loaded_model.score(x_test_scaled, y_test)\n",
    "newguypoint = loaded_model.predict(xdf_scaled)\n",
    "\n",
    "#print(result)\n",
    "print(newguypoint)"
   ]
  },
  {
   "cell_type": "code",
   "execution_count": null,
   "id": "d5ed9bf1",
   "metadata": {},
   "outputs": [],
   "source": []
  }
 ],
 "metadata": {
  "kernelspec": {
   "display_name": "Python 3",
   "language": "python",
   "name": "python3"
  },
  "language_info": {
   "codemirror_mode": {
    "name": "ipython",
    "version": 3
   },
   "file_extension": ".py",
   "mimetype": "text/x-python",
   "name": "python",
   "nbconvert_exporter": "python",
   "pygments_lexer": "ipython3",
   "version": "3.8.8"
  }
 },
 "nbformat": 4,
 "nbformat_minor": 5
}
