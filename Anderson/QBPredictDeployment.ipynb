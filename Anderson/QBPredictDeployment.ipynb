{
 "cells": [
  {
   "cell_type": "code",
   "execution_count": 10,
   "id": "1b5cb2b7",
   "metadata": {},
   "outputs": [],
   "source": [
    "import joblib\n",
    "x_scaler = joblib.load('QBscaler.gz')"
   ]
  },
  {
   "cell_type": "code",
   "execution_count": 15,
   "id": "08045196",
   "metadata": {},
   "outputs": [
    {
     "name": "stdout",
     "output_type": "stream",
     "text": [
      "What is the Player Interception for this season? 12\n",
      "What is the Player Passing Yard Per TD for this season? 120\n",
      "How many times did this Player Fumble this season? 2\n",
      "What is the Player Passing Completion Per Attempt this season? 0.66\n"
     ]
    }
   ],
   "source": [
    "UInterception = input(\"What is the Player Interception for this season? \")\n",
    "UPYPTD = input(\"What is the Player Passing Yard Per TD for this season? \")\n",
    "UFumbles = input(\"How many times did this Player Fumble this season? \")\n",
    "UPCPA = input(\"What is the Player Passing Completion Per Attempt this season? \")\n",
    "UInterception = int(UInterception)\n",
    "UPYPTD = float(UPYPTD)\n",
    "UFumbles = int(UFumbles)\n",
    "UPCPA = float(UPCPA)"
   ]
  },
  {
   "cell_type": "code",
   "execution_count": 13,
   "id": "e48b5781",
   "metadata": {},
   "outputs": [],
   "source": [
    "import pandas as pd\n",
    "datadict = {\n",
    "    \"Interceptions\": UInterception,\n",
    "    \"Passing Yards Per TD\": UPYPTD,\n",
    "    \"Fumbles\": UFumbles,\n",
    "    \"Passing Completion Per Attempts\": UPCPA\n",
    "}\n",
    "\n",
    "xdf = pd.DataFrame([datadict])\n",
    "xdf_scaled = x_scaler.transform(xdf)"
   ]
  },
  {
   "cell_type": "code",
   "execution_count": 14,
   "id": "abc5eb41",
   "metadata": {},
   "outputs": [
    {
     "name": "stdout",
     "output_type": "stream",
     "text": [
      "[313.87336147]\n"
     ]
    }
   ],
   "source": [
    "import pickle \n",
    "\n",
    "# load the model from disk\n",
    "filename = 'QuaterbackModel_trained.sav'\n",
    "loaded_model = pickle.load(open(filename, 'rb'))\n",
    "#result = loaded_model.score(x_test_scaled, y_test)\n",
    "newguypoint = loaded_model.predict(xdf_scaled)\n",
    "\n",
    "#print(result)\n",
    "print(newguypoint)"
   ]
  }
 ],
 "metadata": {
  "kernelspec": {
   "display_name": "Python 3",
   "language": "python",
   "name": "python3"
  },
  "language_info": {
   "codemirror_mode": {
    "name": "ipython",
    "version": 3
   },
   "file_extension": ".py",
   "mimetype": "text/x-python",
   "name": "python",
   "nbconvert_exporter": "python",
   "pygments_lexer": "ipython3",
   "version": "3.8.8"
  }
 },
 "nbformat": 4,
 "nbformat_minor": 5
}
