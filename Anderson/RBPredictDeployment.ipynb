{
 "cells": [
  {
   "cell_type": "code",
   "execution_count": 1,
   "id": "83c13a11",
   "metadata": {},
   "outputs": [],
   "source": [
    "import joblib\n",
    "x_scaler = joblib.load('RBscaler.gz')"
   ]
  },
  {
   "cell_type": "code",
   "execution_count": 2,
   "id": "471bb61b",
   "metadata": {},
   "outputs": [
    {
     "name": "stdout",
     "output_type": "stream",
     "text": [
      "How many times did this player Rush Attempt? 100\n",
      "How many yards did this player Rush? 1500\n",
      "What is the Player Receiving Yards per TD this season? 93.3\n",
      "How many times did this Player Fumble this season? 2\n"
     ]
    }
   ],
   "source": [
    "URA = input(\"How many times did this player Rush Attempt? \")\n",
    "URY = input(\"How many yards did this player Rush? \")\n",
    "UReTD = input(\"What is the Player Receiving Yards per TD this season? \")\n",
    "UFumble = input(\"How many times did this Player Fumble this season? \")\n",
    "\n",
    "URA = float(URA)\n",
    "URY = float(URY)\n",
    "UReTD = float(UReTD)\n",
    "UFumble = int(UFumble)"
   ]
  },
  {
   "cell_type": "code",
   "execution_count": 4,
   "id": "a9e44abd",
   "metadata": {},
   "outputs": [],
   "source": [
    "import pandas as pd\n",
    "\n",
    "datadict = {\n",
    "    \"Rush Attempt\": URA,\n",
    "    \"Rushing Yards\": URY,\n",
    "    \"Rushing Yards per TD\": URuTD,\n",
    "    \"Fumbles\":UFumble\n",
    "}\n",
    "\n",
    "xdf = pd.DataFrame([datadict])\n",
    "xdf_scaled = x_scaler.transform(xdf)"
   ]
  },
  {
   "cell_type": "code",
   "execution_count": 5,
   "id": "c2f16f37",
   "metadata": {},
   "outputs": [
    {
     "name": "stdout",
     "output_type": "stream",
     "text": [
      "[243.60891465]\n"
     ]
    }
   ],
   "source": [
    "import pickle \n",
    "\n",
    "# load the model from disk\n",
    "filename = 'Runningback_trained.sav'\n",
    "loaded_model = pickle.load(open(filename, 'rb'))\n",
    "#result = loaded_model.score(x_test_scaled, y_test)\n",
    "newguypoint = loaded_model.predict(xdf_scaled)\n",
    "\n",
    "#print(result)\n",
    "print(newguypoint)"
   ]
  }
 ],
 "metadata": {
  "kernelspec": {
   "display_name": "Python 3",
   "language": "python",
   "name": "python3"
  },
  "language_info": {
   "codemirror_mode": {
    "name": "ipython",
    "version": 3
   },
   "file_extension": ".py",
   "mimetype": "text/x-python",
   "name": "python",
   "nbconvert_exporter": "python",
   "pygments_lexer": "ipython3",
   "version": "3.8.8"
  }
 },
 "nbformat": 4,
 "nbformat_minor": 5
}
