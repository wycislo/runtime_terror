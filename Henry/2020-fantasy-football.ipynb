{
 "cells": [
  {
   "cell_type": "markdown",
   "metadata": {},
   "source": [
    "This is still a work in progress.. check out the dataset if you would like to explore more: https://www.kaggle.com/mur418/espn-2019-stats-and-2020-nfl-fantasy-projections"
   ]
  },
  {
   "cell_type": "markdown",
   "metadata": {},
   "source": [
    "# Imports"
   ]
  },
  {
   "cell_type": "code",
   "execution_count": 1,
   "metadata": {
    "_cell_guid": "b1076dfc-b9ad-4769-8c92-a6c4dae69d19",
    "_uuid": "8f2839f25d086af736a60e9eeb907d3b93b6e0e5"
   },
   "outputs": [],
   "source": [
    "import pandas as pd\n",
    "\n",
    "import matplotlib.pyplot as plt"
   ]
  },
  {
   "cell_type": "markdown",
   "metadata": {},
   "source": [
    "# Gather Data"
   ]
  },
  {
   "cell_type": "code",
   "execution_count": 2,
   "metadata": {
    "_cell_guid": "79c7e3d0-c299-4dcb-8224-4455121ee9b0",
    "_uuid": "d629ff2d2480ee46fbb7e2d37f6b5fab8052498a"
   },
   "outputs": [],
   "source": [
    "qbs = pd.read_csv('../input/espn-2019-stats-and-2020-nfl-fantasy-projections/qb_stats_and_projections.csv')\n",
    "wrs = pd.read_csv('../input/espn-2019-stats-and-2020-nfl-fantasy-projections/wr_stats_and_projections.csv')\n",
    "rbs = pd.read_csv('../input/espn-2019-stats-and-2020-nfl-fantasy-projections/rb_stats_and_projections.csv')\n",
    "te = pd.read_csv('../input/espn-2019-stats-and-2020-nfl-fantasy-projections/te_stats_and_projections.csv')\n",
    "dst = pd.read_csv('../input/espn-2019-stats-and-2020-nfl-fantasy-projections/defense_stats_and_projections.csv')\n",
    "kickers = pd.read_csv('../input/espn-2019-stats-and-2020-nfl-fantasy-projections/kicker_stats_and_projections.csv')"
   ]
  },
  {
   "cell_type": "code",
   "execution_count": 3,
   "metadata": {},
   "outputs": [],
   "source": [
    "#for now, lets rename defence team name to player name\n",
    "temp_dst = dst.rename(columns={\"TEAM NAME\": \"PLAYER NAME\"})\n",
    "temp_dst['PLAYER POSITION'] = 'DST'\n",
    "\n",
    "#rename wrs position to player position .. just like the rest of the tables\n",
    "wrs = wrs.rename(columns={\"POSITION\": \"PLAYER POSITION\"})"
   ]
  },
  {
   "cell_type": "code",
   "execution_count": 4,
   "metadata": {},
   "outputs": [
    {
     "name": "stdout",
     "output_type": "stream",
     "text": [
      "Index(['Unnamed: 0', 'PLAYER NAME', 'TEAM NAME', 'PLAYER POSITION',\n",
      "       '2019 COMPLETED PASS', '2019 ATTEMPTED PASS', '2019 PASSING YDS',\n",
      "       '2019 PASSING TD', '2019 INT', '2019 CAR', '2019 RUSH YDS',\n",
      "       '2019 RUSH TD', '2019 FPTS', '2020 COMPLETED PASS',\n",
      "       '2020 ATTEMPTED PASS', '2020 PASSING YDS', '2020 PASSING TD',\n",
      "       '2020 INT', '2020 CAR', '2020 RUSH YDS', '2020 RUSH TD', '2020 FPTS',\n",
      "       '2020 OUTLOOK', 'TEAM', '2019 TAR', '2019 REC', '2019 REC YARDS',\n",
      "       '2019 AVG REC YARDS', '2019 REC TDS', '2019 RUSH CAR',\n",
      "       '2019 RUSH YARDS', '2019 RUSH TDS', '2020 TAR', '2020 REC',\n",
      "       '2020 REC YARDS', '2020 AVG REC YARDS', '2020 REC TDS', '2020 RUSH CAR',\n",
      "       '2020 RUSH YARDS', '2020 RUSH TDS', '2020 PLAYER OUTLOOK',\n",
      "       '2019 RUSH AVG', '2019 REC YDS', '2020 RUSH AVG', '2020 REC YDS',\n",
      "       '2020 REC TD', 'Player OUTLOOK', '2019 AVG REC YDS', '2019 REC TD',\n",
      "       '2020 AVG REC YDS', '2019 SCK', '2019 FR', '2019 TD', '2019 PA',\n",
      "       '2019 YA', '2020 SCK', '2020 FR', '2020 TD', '2020 PA', '2020 YA',\n",
      "       '2019 COMPLETED 1-39', '2019 ATTEMPTED 1-39', '2019 COMPLETED 40-49',\n",
      "       '2019 ATTEMPTED 40-49', '2019 COMPLETED 50+', '2019 ATTEMPTED 50+',\n",
      "       '2019 COMPLETED TOT', '2019 ATTEMPTED TOT', '2019 COMPLETED XP',\n",
      "       '2019 ATTEMPTED XP', '2020 COMPLETED 1-39', '2020 ATTEMPTED 1-39',\n",
      "       '2020 COMPLETED 40-49', '2020 ATTEMPTED 40-49', '2020 COMPLETED 50+',\n",
      "       '2020 ATTEMPTED 50+', '2020 COMPLETED TOT', '2020 ATTEMPTED TOT',\n",
      "       '2020 COMPLETED XP', '2020 ATTEMPTED XP'],\n",
      "      dtype='object')\n"
     ]
    },
    {
     "data": {
      "text/html": [
       "<div>\n",
       "<style scoped>\n",
       "    .dataframe tbody tr th:only-of-type {\n",
       "        vertical-align: middle;\n",
       "    }\n",
       "\n",
       "    .dataframe tbody tr th {\n",
       "        vertical-align: top;\n",
       "    }\n",
       "\n",
       "    .dataframe thead th {\n",
       "        text-align: right;\n",
       "    }\n",
       "</style>\n",
       "<table border=\"1\" class=\"dataframe\">\n",
       "  <thead>\n",
       "    <tr style=\"text-align: right;\">\n",
       "      <th></th>\n",
       "      <th>PLAYER NAME</th>\n",
       "      <th>PLAYER POSITION</th>\n",
       "      <th>2019 FPTS</th>\n",
       "      <th>2020 FPTS</th>\n",
       "    </tr>\n",
       "  </thead>\n",
       "  <tbody>\n",
       "    <tr>\n",
       "      <th>0</th>\n",
       "      <td>Lamar Jackson</td>\n",
       "      <td>QB</td>\n",
       "      <td>415.68</td>\n",
       "      <td>338.23</td>\n",
       "    </tr>\n",
       "    <tr>\n",
       "      <th>1</th>\n",
       "      <td>Patrick Mahomes</td>\n",
       "      <td>QB</td>\n",
       "      <td>287.04</td>\n",
       "      <td>332.66</td>\n",
       "    </tr>\n",
       "    <tr>\n",
       "      <th>2</th>\n",
       "      <td>Deshaun Watson</td>\n",
       "      <td>QB</td>\n",
       "      <td>320.98</td>\n",
       "      <td>314.06</td>\n",
       "    </tr>\n",
       "    <tr>\n",
       "      <th>3</th>\n",
       "      <td>Dak Prescott</td>\n",
       "      <td>QB</td>\n",
       "      <td>337.78</td>\n",
       "      <td>301.71</td>\n",
       "    </tr>\n",
       "    <tr>\n",
       "      <th>4</th>\n",
       "      <td>Russell Wilson</td>\n",
       "      <td>QB</td>\n",
       "      <td>328.60</td>\n",
       "      <td>293.96</td>\n",
       "    </tr>\n",
       "    <tr>\n",
       "      <th>...</th>\n",
       "      <td>...</td>\n",
       "      <td>...</td>\n",
       "      <td>...</td>\n",
       "      <td>...</td>\n",
       "    </tr>\n",
       "    <tr>\n",
       "      <th>45</th>\n",
       "      <td>Mike Nugent</td>\n",
       "      <td>K</td>\n",
       "      <td>27.00</td>\n",
       "      <td>0.00</td>\n",
       "    </tr>\n",
       "    <tr>\n",
       "      <th>46</th>\n",
       "      <td>Graham Gano</td>\n",
       "      <td>K</td>\n",
       "      <td>NaN</td>\n",
       "      <td>0.00</td>\n",
       "    </tr>\n",
       "    <tr>\n",
       "      <th>47</th>\n",
       "      <td>Ryan Succop</td>\n",
       "      <td>K</td>\n",
       "      <td>22.00</td>\n",
       "      <td>0.00</td>\n",
       "    </tr>\n",
       "    <tr>\n",
       "      <th>48</th>\n",
       "      <td>Stephen Gostkowski</td>\n",
       "      <td>K</td>\n",
       "      <td>32.00</td>\n",
       "      <td>0.00</td>\n",
       "    </tr>\n",
       "    <tr>\n",
       "      <th>49</th>\n",
       "      <td>Tyler Bass</td>\n",
       "      <td>K</td>\n",
       "      <td>NaN</td>\n",
       "      <td>0.00</td>\n",
       "    </tr>\n",
       "  </tbody>\n",
       "</table>\n",
       "<p>1002 rows × 4 columns</p>\n",
       "</div>"
      ],
      "text/plain": [
       "           PLAYER NAME PLAYER POSITION  2019 FPTS  2020 FPTS\n",
       "0        Lamar Jackson              QB     415.68     338.23\n",
       "1      Patrick Mahomes              QB     287.04     332.66\n",
       "2       Deshaun Watson              QB     320.98     314.06\n",
       "3         Dak Prescott              QB     337.78     301.71\n",
       "4       Russell Wilson              QB     328.60     293.96\n",
       "..                 ...             ...        ...        ...\n",
       "45         Mike Nugent               K      27.00       0.00\n",
       "46         Graham Gano               K        NaN       0.00\n",
       "47         Ryan Succop               K      22.00       0.00\n",
       "48  Stephen Gostkowski               K      32.00       0.00\n",
       "49          Tyler Bass               K        NaN       0.00\n",
       "\n",
       "[1002 rows x 4 columns]"
      ]
     },
     "execution_count": 4,
     "metadata": {},
     "output_type": "execute_result"
    }
   ],
   "source": [
    "full_df = pd.concat([qbs, wrs, rbs, te, temp_dst, kickers])\n",
    "print(full_df.columns)\n",
    "names_2019_2020 = full_df[['PLAYER NAME', 'PLAYER POSITION','2019 FPTS', '2020 FPTS']]\n",
    "names_2019_2020"
   ]
  },
  {
   "cell_type": "code",
   "execution_count": 5,
   "metadata": {},
   "outputs": [
    {
     "data": {
      "text/html": [
       "<div>\n",
       "<style scoped>\n",
       "    .dataframe tbody tr th:only-of-type {\n",
       "        vertical-align: middle;\n",
       "    }\n",
       "\n",
       "    .dataframe tbody tr th {\n",
       "        vertical-align: top;\n",
       "    }\n",
       "\n",
       "    .dataframe thead th {\n",
       "        text-align: right;\n",
       "    }\n",
       "</style>\n",
       "<table border=\"1\" class=\"dataframe\">\n",
       "  <thead>\n",
       "    <tr style=\"text-align: right;\">\n",
       "      <th></th>\n",
       "      <th>Unnamed: 0</th>\n",
       "      <th>PLAYER NAME</th>\n",
       "      <th>TEAM NAME</th>\n",
       "      <th>PLAYER POSITION</th>\n",
       "      <th>2019 CAR</th>\n",
       "      <th>2019 RUSH YDS</th>\n",
       "      <th>2019 RUSH AVG</th>\n",
       "      <th>2019 RUSH TD</th>\n",
       "      <th>2019 REC</th>\n",
       "      <th>2019 REC YDS</th>\n",
       "      <th>...</th>\n",
       "      <th>2019 FPTS</th>\n",
       "      <th>2020 CAR</th>\n",
       "      <th>2020 RUSH YARDS</th>\n",
       "      <th>2020 RUSH AVG</th>\n",
       "      <th>2020 RUSH TD</th>\n",
       "      <th>2020 REC</th>\n",
       "      <th>2020 REC YDS</th>\n",
       "      <th>2020 REC TD</th>\n",
       "      <th>2020 FPTS</th>\n",
       "      <th>Player OUTLOOK</th>\n",
       "    </tr>\n",
       "  </thead>\n",
       "  <tbody>\n",
       "    <tr>\n",
       "      <th>0</th>\n",
       "      <td>1</td>\n",
       "      <td>Christian McCaffrey</td>\n",
       "      <td>Panthers</td>\n",
       "      <td>RB</td>\n",
       "      <td>287.0</td>\n",
       "      <td>1387.0</td>\n",
       "      <td>4.8</td>\n",
       "      <td>15.0</td>\n",
       "      <td>116.0</td>\n",
       "      <td>1005.0</td>\n",
       "      <td>...</td>\n",
       "      <td>471.20</td>\n",
       "      <td>233.0</td>\n",
       "      <td>1048.0</td>\n",
       "      <td>4.5</td>\n",
       "      <td>9.0</td>\n",
       "      <td>90.0</td>\n",
       "      <td>736.0</td>\n",
       "      <td>3.0</td>\n",
       "      <td>333.95</td>\n",
       "      <td>McCaffrey returns as the feature back in Carol...</td>\n",
       "    </tr>\n",
       "    <tr>\n",
       "      <th>1</th>\n",
       "      <td>2</td>\n",
       "      <td>Ezekiel Elliott</td>\n",
       "      <td>Cowboys</td>\n",
       "      <td>RB</td>\n",
       "      <td>301.0</td>\n",
       "      <td>1357.0</td>\n",
       "      <td>4.5</td>\n",
       "      <td>12.0</td>\n",
       "      <td>54.0</td>\n",
       "      <td>420.0</td>\n",
       "      <td>...</td>\n",
       "      <td>311.70</td>\n",
       "      <td>282.0</td>\n",
       "      <td>1244.0</td>\n",
       "      <td>4.4</td>\n",
       "      <td>10.0</td>\n",
       "      <td>57.0</td>\n",
       "      <td>455.0</td>\n",
       "      <td>2.0</td>\n",
       "      <td>300.76</td>\n",
       "      <td>Elliott returns as the clear feature back in D...</td>\n",
       "    </tr>\n",
       "    <tr>\n",
       "      <th>2</th>\n",
       "      <td>3</td>\n",
       "      <td>Saquon Barkley</td>\n",
       "      <td>Giants</td>\n",
       "      <td>RB</td>\n",
       "      <td>217.0</td>\n",
       "      <td>1003.0</td>\n",
       "      <td>4.6</td>\n",
       "      <td>6.0</td>\n",
       "      <td>52.0</td>\n",
       "      <td>438.0</td>\n",
       "      <td>...</td>\n",
       "      <td>244.10</td>\n",
       "      <td>261.0</td>\n",
       "      <td>1176.0</td>\n",
       "      <td>4.5</td>\n",
       "      <td>10.0</td>\n",
       "      <td>57.0</td>\n",
       "      <td>458.0</td>\n",
       "      <td>3.0</td>\n",
       "      <td>292.33</td>\n",
       "      <td>Barkley's 2019 season fell short of lofty expe...</td>\n",
       "    </tr>\n",
       "    <tr>\n",
       "      <th>3</th>\n",
       "      <td>4</td>\n",
       "      <td>Dalvin Cook</td>\n",
       "      <td>Vikings</td>\n",
       "      <td>RB</td>\n",
       "      <td>250.0</td>\n",
       "      <td>1135.0</td>\n",
       "      <td>4.5</td>\n",
       "      <td>13.0</td>\n",
       "      <td>53.0</td>\n",
       "      <td>519.0</td>\n",
       "      <td>...</td>\n",
       "      <td>292.40</td>\n",
       "      <td>245.0</td>\n",
       "      <td>1051.0</td>\n",
       "      <td>4.3</td>\n",
       "      <td>10.0</td>\n",
       "      <td>64.0</td>\n",
       "      <td>536.0</td>\n",
       "      <td>1.0</td>\n",
       "      <td>291.72</td>\n",
       "      <td>Cook's career has thus far been marred by inju...</td>\n",
       "    </tr>\n",
       "    <tr>\n",
       "      <th>4</th>\n",
       "      <td>5</td>\n",
       "      <td>Alvin Kamara</td>\n",
       "      <td>Saints</td>\n",
       "      <td>RB</td>\n",
       "      <td>171.0</td>\n",
       "      <td>797.0</td>\n",
       "      <td>4.7</td>\n",
       "      <td>5.0</td>\n",
       "      <td>81.0</td>\n",
       "      <td>533.0</td>\n",
       "      <td>...</td>\n",
       "      <td>248.52</td>\n",
       "      <td>194.0</td>\n",
       "      <td>876.0</td>\n",
       "      <td>4.5</td>\n",
       "      <td>8.0</td>\n",
       "      <td>78.0</td>\n",
       "      <td>600.0</td>\n",
       "      <td>3.0</td>\n",
       "      <td>290.39</td>\n",
       "      <td>Kamara is coming off an up-and-down 2019 campa...</td>\n",
       "    </tr>\n",
       "    <tr>\n",
       "      <th>...</th>\n",
       "      <td>...</td>\n",
       "      <td>...</td>\n",
       "      <td>...</td>\n",
       "      <td>...</td>\n",
       "      <td>...</td>\n",
       "      <td>...</td>\n",
       "      <td>...</td>\n",
       "      <td>...</td>\n",
       "      <td>...</td>\n",
       "      <td>...</td>\n",
       "      <td>...</td>\n",
       "      <td>...</td>\n",
       "      <td>...</td>\n",
       "      <td>...</td>\n",
       "      <td>...</td>\n",
       "      <td>...</td>\n",
       "      <td>...</td>\n",
       "      <td>...</td>\n",
       "      <td>...</td>\n",
       "      <td>...</td>\n",
       "      <td>...</td>\n",
       "    </tr>\n",
       "    <tr>\n",
       "      <th>250</th>\n",
       "      <td>251</td>\n",
       "      <td>Marshawn Lynch</td>\n",
       "      <td>FA</td>\n",
       "      <td>RB</td>\n",
       "      <td>12.0</td>\n",
       "      <td>34.0</td>\n",
       "      <td>2.8</td>\n",
       "      <td>1.0</td>\n",
       "      <td>0.0</td>\n",
       "      <td>0.0</td>\n",
       "      <td>...</td>\n",
       "      <td>9.40</td>\n",
       "      <td>NaN</td>\n",
       "      <td>NaN</td>\n",
       "      <td>NaN</td>\n",
       "      <td>NaN</td>\n",
       "      <td>NaN</td>\n",
       "      <td>NaN</td>\n",
       "      <td>NaN</td>\n",
       "      <td>0.00</td>\n",
       "      <td>No outlook available.</td>\n",
       "    </tr>\n",
       "    <tr>\n",
       "      <th>251</th>\n",
       "      <td>252</td>\n",
       "      <td>Darren Sproles</td>\n",
       "      <td>Eagles</td>\n",
       "      <td>RB</td>\n",
       "      <td>17.0</td>\n",
       "      <td>66.0</td>\n",
       "      <td>3.9</td>\n",
       "      <td>0.0</td>\n",
       "      <td>6.0</td>\n",
       "      <td>24.0</td>\n",
       "      <td>...</td>\n",
       "      <td>17.00</td>\n",
       "      <td>NaN</td>\n",
       "      <td>NaN</td>\n",
       "      <td>NaN</td>\n",
       "      <td>NaN</td>\n",
       "      <td>NaN</td>\n",
       "      <td>NaN</td>\n",
       "      <td>NaN</td>\n",
       "      <td>0.00</td>\n",
       "      <td>No outlook available.</td>\n",
       "    </tr>\n",
       "    <tr>\n",
       "      <th>252</th>\n",
       "      <td>253</td>\n",
       "      <td>LeSean McCoy</td>\n",
       "      <td>FA</td>\n",
       "      <td>RB</td>\n",
       "      <td>101.0</td>\n",
       "      <td>465.0</td>\n",
       "      <td>4.6</td>\n",
       "      <td>4.0</td>\n",
       "      <td>28.0</td>\n",
       "      <td>181.0</td>\n",
       "      <td>...</td>\n",
       "      <td>118.60</td>\n",
       "      <td>NaN</td>\n",
       "      <td>NaN</td>\n",
       "      <td>NaN</td>\n",
       "      <td>NaN</td>\n",
       "      <td>NaN</td>\n",
       "      <td>NaN</td>\n",
       "      <td>NaN</td>\n",
       "      <td>0.00</td>\n",
       "      <td>No outlook available.</td>\n",
       "    </tr>\n",
       "    <tr>\n",
       "      <th>253</th>\n",
       "      <td>254</td>\n",
       "      <td>Alex Barnes</td>\n",
       "      <td>Titans</td>\n",
       "      <td>RB</td>\n",
       "      <td>NaN</td>\n",
       "      <td>NaN</td>\n",
       "      <td>NaN</td>\n",
       "      <td>NaN</td>\n",
       "      <td>NaN</td>\n",
       "      <td>NaN</td>\n",
       "      <td>...</td>\n",
       "      <td>NaN</td>\n",
       "      <td>NaN</td>\n",
       "      <td>NaN</td>\n",
       "      <td>NaN</td>\n",
       "      <td>NaN</td>\n",
       "      <td>NaN</td>\n",
       "      <td>NaN</td>\n",
       "      <td>NaN</td>\n",
       "      <td>0.00</td>\n",
       "      <td>No outlook available.</td>\n",
       "    </tr>\n",
       "    <tr>\n",
       "      <th>254</th>\n",
       "      <td>255</td>\n",
       "      <td>Austin Walter</td>\n",
       "      <td>Giants</td>\n",
       "      <td>RB</td>\n",
       "      <td>0.0</td>\n",
       "      <td>0.0</td>\n",
       "      <td>0.0</td>\n",
       "      <td>0.0</td>\n",
       "      <td>0.0</td>\n",
       "      <td>0.0</td>\n",
       "      <td>...</td>\n",
       "      <td>0.00</td>\n",
       "      <td>NaN</td>\n",
       "      <td>NaN</td>\n",
       "      <td>NaN</td>\n",
       "      <td>NaN</td>\n",
       "      <td>NaN</td>\n",
       "      <td>NaN</td>\n",
       "      <td>NaN</td>\n",
       "      <td>0.00</td>\n",
       "      <td>No outlook available.</td>\n",
       "    </tr>\n",
       "  </tbody>\n",
       "</table>\n",
       "<p>255 rows × 21 columns</p>\n",
       "</div>"
      ],
      "text/plain": [
       "     Unnamed: 0          PLAYER NAME TEAM NAME PLAYER POSITION  2019 CAR  \\\n",
       "0             1  Christian McCaffrey  Panthers              RB     287.0   \n",
       "1             2      Ezekiel Elliott   Cowboys              RB     301.0   \n",
       "2             3       Saquon Barkley    Giants              RB     217.0   \n",
       "3             4          Dalvin Cook   Vikings              RB     250.0   \n",
       "4             5         Alvin Kamara    Saints              RB     171.0   \n",
       "..          ...                  ...       ...             ...       ...   \n",
       "250         251       Marshawn Lynch        FA              RB      12.0   \n",
       "251         252       Darren Sproles    Eagles              RB      17.0   \n",
       "252         253         LeSean McCoy        FA              RB     101.0   \n",
       "253         254          Alex Barnes    Titans              RB       NaN   \n",
       "254         255        Austin Walter    Giants              RB       0.0   \n",
       "\n",
       "     2019 RUSH YDS  2019 RUSH AVG  2019 RUSH TD  2019 REC  2019 REC YDS  ...  \\\n",
       "0           1387.0            4.8          15.0     116.0        1005.0  ...   \n",
       "1           1357.0            4.5          12.0      54.0         420.0  ...   \n",
       "2           1003.0            4.6           6.0      52.0         438.0  ...   \n",
       "3           1135.0            4.5          13.0      53.0         519.0  ...   \n",
       "4            797.0            4.7           5.0      81.0         533.0  ...   \n",
       "..             ...            ...           ...       ...           ...  ...   \n",
       "250           34.0            2.8           1.0       0.0           0.0  ...   \n",
       "251           66.0            3.9           0.0       6.0          24.0  ...   \n",
       "252          465.0            4.6           4.0      28.0         181.0  ...   \n",
       "253            NaN            NaN           NaN       NaN           NaN  ...   \n",
       "254            0.0            0.0           0.0       0.0           0.0  ...   \n",
       "\n",
       "     2019 FPTS  2020 CAR  2020 RUSH YARDS  2020 RUSH AVG  2020 RUSH TD  \\\n",
       "0       471.20     233.0           1048.0            4.5           9.0   \n",
       "1       311.70     282.0           1244.0            4.4          10.0   \n",
       "2       244.10     261.0           1176.0            4.5          10.0   \n",
       "3       292.40     245.0           1051.0            4.3          10.0   \n",
       "4       248.52     194.0            876.0            4.5           8.0   \n",
       "..         ...       ...              ...            ...           ...   \n",
       "250       9.40       NaN              NaN            NaN           NaN   \n",
       "251      17.00       NaN              NaN            NaN           NaN   \n",
       "252     118.60       NaN              NaN            NaN           NaN   \n",
       "253        NaN       NaN              NaN            NaN           NaN   \n",
       "254       0.00       NaN              NaN            NaN           NaN   \n",
       "\n",
       "     2020 REC  2020 REC YDS  2020 REC TD  2020 FPTS  \\\n",
       "0        90.0         736.0          3.0     333.95   \n",
       "1        57.0         455.0          2.0     300.76   \n",
       "2        57.0         458.0          3.0     292.33   \n",
       "3        64.0         536.0          1.0     291.72   \n",
       "4        78.0         600.0          3.0     290.39   \n",
       "..        ...           ...          ...        ...   \n",
       "250       NaN           NaN          NaN       0.00   \n",
       "251       NaN           NaN          NaN       0.00   \n",
       "252       NaN           NaN          NaN       0.00   \n",
       "253       NaN           NaN          NaN       0.00   \n",
       "254       NaN           NaN          NaN       0.00   \n",
       "\n",
       "                                        Player OUTLOOK  \n",
       "0    McCaffrey returns as the feature back in Carol...  \n",
       "1    Elliott returns as the clear feature back in D...  \n",
       "2    Barkley's 2019 season fell short of lofty expe...  \n",
       "3    Cook's career has thus far been marred by inju...  \n",
       "4    Kamara is coming off an up-and-down 2019 campa...  \n",
       "..                                                 ...  \n",
       "250                              No outlook available.  \n",
       "251                              No outlook available.  \n",
       "252                              No outlook available.  \n",
       "253                              No outlook available.  \n",
       "254                              No outlook available.  \n",
       "\n",
       "[255 rows x 21 columns]"
      ]
     },
     "execution_count": 5,
     "metadata": {},
     "output_type": "execute_result"
    }
   ],
   "source": [
    "rbs"
   ]
  },
  {
   "cell_type": "code",
   "execution_count": 6,
   "metadata": {},
   "outputs": [
    {
     "name": "stdout",
     "output_type": "stream",
     "text": [
      "<class 'pandas.core.frame.DataFrame'>\n",
      "Int64Index: 1002 entries, 0 to 49\n",
      "Data columns (total 4 columns):\n",
      " #   Column           Non-Null Count  Dtype  \n",
      "---  ------           --------------  -----  \n",
      " 0   PLAYER NAME      1002 non-null   object \n",
      " 1   PLAYER POSITION  1002 non-null   object \n",
      " 2   2019 FPTS        681 non-null    float64\n",
      " 3   2020 FPTS        1001 non-null   float64\n",
      "dtypes: float64(2), object(2)\n",
      "memory usage: 39.1+ KB\n"
     ]
    }
   ],
   "source": [
    "names_2019_2020.info()"
   ]
  },
  {
   "cell_type": "markdown",
   "metadata": {},
   "source": [
    "# Plot 2020 vs 2019 points"
   ]
  },
  {
   "cell_type": "code",
   "execution_count": 7,
   "metadata": {},
   "outputs": [
    {
     "data": {
      "image/png": "[encoded data removed]",
      "text/plain": [
       "<Figure size 720x504 with 1 Axes>"
      ]
     },
     "metadata": {
      "needs_background": "light"
     },
     "output_type": "display_data"
    }
   ],
   "source": [
    "plt.figure(figsize=(10,7))\n",
    "plt.scatter(names_2019_2020['2019 FPTS'], names_2019_2020['2020 FPTS'], alpha = 0.7)\n",
    "plt.title('2020 Fantasy Points vs 2020 Fantasy Points')\n",
    "plt.show()"
   ]
  },
  {
   "cell_type": "markdown",
   "metadata": {},
   "source": [
    "# Number of players per position"
   ]
  },
  {
   "cell_type": "code",
   "execution_count": 8,
   "metadata": {},
   "outputs": [
    {
     "data": {
      "text/plain": [
       "PLAYER POSITION\n",
       "--          1\n",
       "DST        32\n",
       "DT, RB      1\n",
       "K          50\n",
       "QB        124\n",
       "RB        254\n",
       "TE        190\n",
       "WR        350\n",
       "dtype: int64"
      ]
     },
     "execution_count": 8,
     "metadata": {},
     "output_type": "execute_result"
    }
   ],
   "source": [
    "players_per_pos = full_df.groupby('PLAYER POSITION').size()\n",
    "players_per_pos"
   ]
  },
  {
   "cell_type": "code",
   "execution_count": 9,
   "metadata": {},
   "outputs": [
    {
     "data": {
      "text/html": [
       "<div>\n",
       "<style scoped>\n",
       "    .dataframe tbody tr th:only-of-type {\n",
       "        vertical-align: middle;\n",
       "    }\n",
       "\n",
       "    .dataframe tbody tr th {\n",
       "        vertical-align: top;\n",
       "    }\n",
       "\n",
       "    .dataframe thead th {\n",
       "        text-align: right;\n",
       "    }\n",
       "</style>\n",
       "<table border=\"1\" class=\"dataframe\">\n",
       "  <thead>\n",
       "    <tr style=\"text-align: right;\">\n",
       "      <th></th>\n",
       "      <th>Unnamed: 0</th>\n",
       "      <th>PLAYER NAME</th>\n",
       "      <th>TEAM NAME</th>\n",
       "      <th>PLAYER POSITION</th>\n",
       "      <th>2019 COMPLETED PASS</th>\n",
       "      <th>2019 ATTEMPTED PASS</th>\n",
       "      <th>2019 PASSING YDS</th>\n",
       "      <th>2019 PASSING TD</th>\n",
       "      <th>2019 INT</th>\n",
       "      <th>2019 CAR</th>\n",
       "      <th>...</th>\n",
       "      <th>2020 COMPLETED 1-39</th>\n",
       "      <th>2020 ATTEMPTED 1-39</th>\n",
       "      <th>2020 COMPLETED 40-49</th>\n",
       "      <th>2020 ATTEMPTED 40-49</th>\n",
       "      <th>2020 COMPLETED 50+</th>\n",
       "      <th>2020 ATTEMPTED 50+</th>\n",
       "      <th>2020 COMPLETED TOT</th>\n",
       "      <th>2020 ATTEMPTED TOT</th>\n",
       "      <th>2020 COMPLETED XP</th>\n",
       "      <th>2020 ATTEMPTED XP</th>\n",
       "    </tr>\n",
       "  </thead>\n",
       "  <tbody>\n",
       "    <tr>\n",
       "      <th>108</th>\n",
       "      <td>109</td>\n",
       "      <td>Patrick Ricard</td>\n",
       "      <td>Ravens</td>\n",
       "      <td>DT, RB</td>\n",
       "      <td>NaN</td>\n",
       "      <td>NaN</td>\n",
       "      <td>NaN</td>\n",
       "      <td>NaN</td>\n",
       "      <td>NaN</td>\n",
       "      <td>154.0</td>\n",
       "      <td>...</td>\n",
       "      <td>NaN</td>\n",
       "      <td>NaN</td>\n",
       "      <td>NaN</td>\n",
       "      <td>NaN</td>\n",
       "      <td>NaN</td>\n",
       "      <td>NaN</td>\n",
       "      <td>NaN</td>\n",
       "      <td>NaN</td>\n",
       "      <td>NaN</td>\n",
       "      <td>NaN</td>\n",
       "    </tr>\n",
       "  </tbody>\n",
       "</table>\n",
       "<p>1 rows × 80 columns</p>\n",
       "</div>"
      ],
      "text/plain": [
       "     Unnamed: 0     PLAYER NAME TEAM NAME PLAYER POSITION  \\\n",
       "108         109  Patrick Ricard    Ravens          DT, RB   \n",
       "\n",
       "     2019 COMPLETED PASS  2019 ATTEMPTED PASS  2019 PASSING YDS  \\\n",
       "108                  NaN                  NaN               NaN   \n",
       "\n",
       "     2019 PASSING TD  2019 INT  2019 CAR  ...  2020 COMPLETED 1-39  \\\n",
       "108              NaN       NaN     154.0  ...                  NaN   \n",
       "\n",
       "     2020 ATTEMPTED 1-39  2020 COMPLETED 40-49  2020 ATTEMPTED 40-49  \\\n",
       "108                  NaN                   NaN                   NaN   \n",
       "\n",
       "     2020 COMPLETED 50+  2020 ATTEMPTED 50+  2020 COMPLETED TOT  \\\n",
       "108                 NaN                 NaN                 NaN   \n",
       "\n",
       "     2020 ATTEMPTED TOT  2020 COMPLETED XP  2020 ATTEMPTED XP  \n",
       "108                 NaN                NaN                NaN  \n",
       "\n",
       "[1 rows x 80 columns]"
      ]
     },
     "execution_count": 9,
     "metadata": {},
     "output_type": "execute_result"
    }
   ],
   "source": [
    "full_df.loc[full_df['PLAYER POSITION'] == 'DT, RB']"
   ]
  },
  {
   "cell_type": "code",
   "execution_count": 10,
   "metadata": {},
   "outputs": [],
   "source": [
    "full_df.loc[full_df['PLAYER POSITION'] == '--']\n",
    "full_df = full_df.drop(190)"
   ]
  },
  {
   "cell_type": "code",
   "execution_count": 11,
   "metadata": {},
   "outputs": [
    {
     "data": {
      "text/plain": [
       "PLAYER POSITION\n",
       "DST        32\n",
       "DT, RB      1\n",
       "K          50\n",
       "QB        124\n",
       "RB        253\n",
       "TE        190\n",
       "WR        349\n",
       "dtype: int64"
      ]
     },
     "execution_count": 11,
     "metadata": {},
     "output_type": "execute_result"
    }
   ],
   "source": [
    "players_per_pos = full_df.groupby('PLAYER POSITION').size()\n",
    "players_per_pos"
   ]
  },
  {
   "cell_type": "code",
   "execution_count": 12,
   "metadata": {},
   "outputs": [
    {
     "data": {
      "text/plain": [
       "array([ 32,   1,  50, 124, 253, 190, 349])"
      ]
     },
     "execution_count": 12,
     "metadata": {},
     "output_type": "execute_result"
    }
   ],
   "source": [
    "players_per_pos.values"
   ]
  },
  {
   "cell_type": "code",
   "execution_count": 13,
   "metadata": {},
   "outputs": [
    {
     "data": {
      "image/png": "[encoded data removed]",
      "text/plain": [
       "<Figure size 720x504 with 1 Axes>"
      ]
     },
     "metadata": {
      "needs_background": "light"
     },
     "output_type": "display_data"
    }
   ],
   "source": [
    "plt.figure(figsize=(10,7))\n",
    "plt.bar(players_per_pos.index,players_per_pos.values)\n",
    "plt.title('Number of players per postition')\n",
    "plt.xlabel('Position')\n",
    "plt.ylabel('Number of players')\n",
    "plt.show()"
   ]
  },
  {
   "cell_type": "markdown",
   "metadata": {},
   "source": [
    "# Which positions score most, on average?"
   ]
  },
  {
   "cell_type": "code",
   "execution_count": 14,
   "metadata": {},
   "outputs": [],
   "source": [
    "avg_points_per_pos = full_df.groupby('PLAYER POSITION')['2019 FPTS'].mean()"
   ]
  },
  {
   "cell_type": "code",
   "execution_count": 15,
   "metadata": {},
   "outputs": [
    {
     "data": {
      "text/plain": [
       "PLAYER POSITION\n",
       "DST        98.593750\n",
       "DT, RB     18.700000\n",
       "K          93.377500\n",
       "QB        118.921389\n",
       "RB         72.895119\n",
       "TE         47.941667\n",
       "WR         73.675812\n",
       "Name: 2019 FPTS, dtype: float64"
      ]
     },
     "execution_count": 15,
     "metadata": {},
     "output_type": "execute_result"
    }
   ],
   "source": [
    "avg_points_per_pos"
   ]
  },
  {
   "cell_type": "code",
   "execution_count": 16,
   "metadata": {},
   "outputs": [
    {
     "data": {
      "image/png": "[encoded data removed]",
      "text/plain": [
       "<Figure size 720x504 with 1 Axes>"
      ]
     },
     "metadata": {
      "needs_background": "light"
     },
     "output_type": "display_data"
    }
   ],
   "source": [
    "plt.figure(figsize=(10,7))\n",
    "plt.bar(avg_points_per_pos.index,avg_points_per_pos.values)\n",
    "plt.title('Average Number of points by position')\n",
    "plt.xlabel('Position')\n",
    "plt.ylabel('Average number of points')\n",
    "plt.show()"
   ]
  },
  {
   "cell_type": "markdown",
   "metadata": {},
   "source": [
    "The above plot shows average number of points per position.. but there are lots of zeros bringing the average down, especially for WR"
   ]
  },
  {
   "cell_type": "markdown",
   "metadata": {},
   "source": [
    "# How many players are expected to score more than 15 fpts per game in 2020?\n",
    "\n",
    "Each team plays 16 games. "
   ]
  },
  {
   "cell_type": "code",
   "execution_count": 17,
   "metadata": {},
   "outputs": [
    {
     "data": {
      "text/html": [
       "<div>\n",
       "<style scoped>\n",
       "    .dataframe tbody tr th:only-of-type {\n",
       "        vertical-align: middle;\n",
       "    }\n",
       "\n",
       "    .dataframe tbody tr th {\n",
       "        vertical-align: top;\n",
       "    }\n",
       "\n",
       "    .dataframe thead th {\n",
       "        text-align: right;\n",
       "    }\n",
       "</style>\n",
       "<table border=\"1\" class=\"dataframe\">\n",
       "  <thead>\n",
       "    <tr style=\"text-align: right;\">\n",
       "      <th></th>\n",
       "      <th>PLAYER NAME</th>\n",
       "      <th>2019 FPTS</th>\n",
       "      <th>2020 FPTS</th>\n",
       "    </tr>\n",
       "    <tr>\n",
       "      <th>PLAYER POSITION</th>\n",
       "      <th></th>\n",
       "      <th></th>\n",
       "      <th></th>\n",
       "    </tr>\n",
       "  </thead>\n",
       "  <tbody>\n",
       "    <tr>\n",
       "      <th>QB</th>\n",
       "      <td>15</td>\n",
       "      <td>15</td>\n",
       "      <td>15</td>\n",
       "    </tr>\n",
       "    <tr>\n",
       "      <th>RB</th>\n",
       "      <td>8</td>\n",
       "      <td>8</td>\n",
       "      <td>8</td>\n",
       "    </tr>\n",
       "    <tr>\n",
       "      <th>TE</th>\n",
       "      <td>1</td>\n",
       "      <td>1</td>\n",
       "      <td>1</td>\n",
       "    </tr>\n",
       "    <tr>\n",
       "      <th>WR</th>\n",
       "      <td>7</td>\n",
       "      <td>7</td>\n",
       "      <td>7</td>\n",
       "    </tr>\n",
       "  </tbody>\n",
       "</table>\n",
       "</div>"
      ],
      "text/plain": [
       "                 PLAYER NAME  2019 FPTS  2020 FPTS\n",
       "PLAYER POSITION                                   \n",
       "QB                        15         15         15\n",
       "RB                         8          8          8\n",
       "TE                         1          1          1\n",
       "WR                         7          7          7"
      ]
     },
     "execution_count": 17,
     "metadata": {},
     "output_type": "execute_result"
    }
   ],
   "source": [
    "#15 points per game = 16 * 15 = 240\n",
    "players_scoring_more_than_15_2020 = names_2019_2020.loc[names_2019_2020['2020 FPTS'] > (15*16)].sort_values('2020 FPTS').groupby('PLAYER POSITION').count()\n",
    "players_scoring_more_than_15_2020"
   ]
  },
  {
   "cell_type": "code",
   "execution_count": 18,
   "metadata": {},
   "outputs": [
    {
     "data": {
      "text/plain": [
       "0    137.08\n",
       "1    134.16\n",
       "2    124.74\n",
       "3    122.57\n",
       "4    122.18\n",
       "Name: 2020 FPTS, dtype: float64"
      ]
     },
     "execution_count": 18,
     "metadata": {},
     "output_type": "execute_result"
    }
   ],
   "source": [
    "#no defenses expected to score more than 15 points per game?\n",
    "dst['2020 FPTS'].head() #nope"
   ]
  },
  {
   "cell_type": "code",
   "execution_count": 19,
   "metadata": {},
   "outputs": [
    {
     "data": {
      "text/plain": [
       "Text(0, 0.5, 'Number of players')"
      ]
     },
     "execution_count": 19,
     "metadata": {},
     "output_type": "execute_result"
    },
    {
     "data": {
      "image/png": "[encoded data removed]",
      "text/plain": [
       "<Figure size 720x504 with 1 Axes>"
      ]
     },
     "metadata": {
      "needs_background": "light"
     },
     "output_type": "display_data"
    }
   ],
   "source": [
    "plt.figure(figsize=(10,7))\n",
    "# print(players_scoring_more_than_15_2020.index)\n",
    "# print(players_scoring_more_than_15_2020['PLAYER NAME'].to_list())\n",
    "\n",
    "\n",
    "\n",
    "plt.bar(players_scoring_more_than_15_2020.index,players_scoring_more_than_15_2020['PLAYER NAME'].to_list())\n",
    "plt.title('Number of players expected to score more than 15 points per game in 2020')\n",
    "plt.xlabel('Position')\n",
    "plt.ylabel('Number of players')\n",
    "# plt.show()"
   ]
  },
  {
   "cell_type": "markdown",
   "metadata": {},
   "source": [
    "# More than 20?"
   ]
  },
  {
   "cell_type": "code",
   "execution_count": 20,
   "metadata": {},
   "outputs": [
    {
     "data": {
      "text/html": [
       "<div>\n",
       "<style scoped>\n",
       "    .dataframe tbody tr th:only-of-type {\n",
       "        vertical-align: middle;\n",
       "    }\n",
       "\n",
       "    .dataframe tbody tr th {\n",
       "        vertical-align: top;\n",
       "    }\n",
       "\n",
       "    .dataframe thead th {\n",
       "        text-align: right;\n",
       "    }\n",
       "</style>\n",
       "<table border=\"1\" class=\"dataframe\">\n",
       "  <thead>\n",
       "    <tr style=\"text-align: right;\">\n",
       "      <th></th>\n",
       "      <th>PLAYER NAME</th>\n",
       "      <th>2019 FPTS</th>\n",
       "      <th>2020 FPTS</th>\n",
       "    </tr>\n",
       "    <tr>\n",
       "      <th>PLAYER POSITION</th>\n",
       "      <th></th>\n",
       "      <th></th>\n",
       "      <th></th>\n",
       "    </tr>\n",
       "  </thead>\n",
       "  <tbody>\n",
       "    <tr>\n",
       "      <th>QB</th>\n",
       "      <td>2</td>\n",
       "      <td>2</td>\n",
       "      <td>2</td>\n",
       "    </tr>\n",
       "    <tr>\n",
       "      <th>RB</th>\n",
       "      <td>1</td>\n",
       "      <td>1</td>\n",
       "      <td>1</td>\n",
       "    </tr>\n",
       "  </tbody>\n",
       "</table>\n",
       "</div>"
      ],
      "text/plain": [
       "                 PLAYER NAME  2019 FPTS  2020 FPTS\n",
       "PLAYER POSITION                                   \n",
       "QB                         2          2          2\n",
       "RB                         1          1          1"
      ]
     },
     "execution_count": 20,
     "metadata": {},
     "output_type": "execute_result"
    }
   ],
   "source": [
    "#20 points per game = 16 * 15 = 320\n",
    "players_scoring_more_than_20_2020 = names_2019_2020.loc[names_2019_2020['2020 FPTS'] > 320].sort_values('2020 FPTS').groupby('PLAYER POSITION').count()\n",
    "players_scoring_more_than_20_2020"
   ]
  },
  {
   "cell_type": "code",
   "execution_count": 21,
   "metadata": {},
   "outputs": [
    {
     "data": {
      "text/plain": [
       "Text(0, 0.5, 'Number of players expected to score more than 20 points')"
      ]
     },
     "execution_count": 21,
     "metadata": {},
     "output_type": "execute_result"
    },
    {
     "data": {
      "image/png": "[encoded data removed]",
      "text/plain": [
       "<Figure size 720x504 with 1 Axes>"
      ]
     },
     "metadata": {
      "needs_background": "light"
     },
     "output_type": "display_data"
    }
   ],
   "source": [
    "plt.figure(figsize=(10,7))\n",
    "\n",
    "plt.bar(players_scoring_more_than_20_2020.index,players_scoring_more_than_20_2020['PLAYER NAME'].to_list())\n",
    "plt.title('Number of players expected to score more than 20 points per game in 2020')\n",
    "plt.xlabel('Position')\n",
    "plt.ylabel('Number of players expected to score more than 20 points')\n",
    "# plt.show()"
   ]
  },
  {
   "cell_type": "code",
   "execution_count": 22,
   "metadata": {},
   "outputs": [
    {
     "data": {
      "text/html": [
       "<div>\n",
       "<style scoped>\n",
       "    .dataframe tbody tr th:only-of-type {\n",
       "        vertical-align: middle;\n",
       "    }\n",
       "\n",
       "    .dataframe tbody tr th {\n",
       "        vertical-align: top;\n",
       "    }\n",
       "\n",
       "    .dataframe thead th {\n",
       "        text-align: right;\n",
       "    }\n",
       "</style>\n",
       "<table border=\"1\" class=\"dataframe\">\n",
       "  <thead>\n",
       "    <tr style=\"text-align: right;\">\n",
       "      <th></th>\n",
       "      <th>PLAYER NAME</th>\n",
       "      <th>PLAYER POSITION</th>\n",
       "      <th>2019 FPTS</th>\n",
       "      <th>2020 FPTS</th>\n",
       "    </tr>\n",
       "  </thead>\n",
       "  <tbody>\n",
       "    <tr>\n",
       "      <th>1</th>\n",
       "      <td>Patrick Mahomes</td>\n",
       "      <td>QB</td>\n",
       "      <td>287.04</td>\n",
       "      <td>332.66</td>\n",
       "    </tr>\n",
       "    <tr>\n",
       "      <th>0</th>\n",
       "      <td>Christian McCaffrey</td>\n",
       "      <td>RB</td>\n",
       "      <td>471.20</td>\n",
       "      <td>333.95</td>\n",
       "    </tr>\n",
       "    <tr>\n",
       "      <th>0</th>\n",
       "      <td>Lamar Jackson</td>\n",
       "      <td>QB</td>\n",
       "      <td>415.68</td>\n",
       "      <td>338.23</td>\n",
       "    </tr>\n",
       "  </tbody>\n",
       "</table>\n",
       "</div>"
      ],
      "text/plain": [
       "           PLAYER NAME PLAYER POSITION  2019 FPTS  2020 FPTS\n",
       "1      Patrick Mahomes              QB     287.04     332.66\n",
       "0  Christian McCaffrey              RB     471.20     333.95\n",
       "0        Lamar Jackson              QB     415.68     338.23"
      ]
     },
     "execution_count": 22,
     "metadata": {},
     "output_type": "execute_result"
    }
   ],
   "source": [
    "#name of players who are expected to score more than 20 points per game\n",
    "names_2019_2020.loc[names_2019_2020['2020 FPTS'] > 320].sort_values('2020 FPTS')"
   ]
  },
  {
   "cell_type": "code",
   "execution_count": 23,
   "metadata": {},
   "outputs": [
    {
     "data": {
      "text/html": [
       "<div>\n",
       "<style scoped>\n",
       "    .dataframe tbody tr th:only-of-type {\n",
       "        vertical-align: middle;\n",
       "    }\n",
       "\n",
       "    .dataframe tbody tr th {\n",
       "        vertical-align: top;\n",
       "    }\n",
       "\n",
       "    .dataframe thead th {\n",
       "        text-align: right;\n",
       "    }\n",
       "</style>\n",
       "<table border=\"1\" class=\"dataframe\">\n",
       "  <thead>\n",
       "    <tr style=\"text-align: right;\">\n",
       "      <th></th>\n",
       "      <th>PLAYER NAME</th>\n",
       "      <th>2019 FPTS</th>\n",
       "      <th>2020 FPTS</th>\n",
       "    </tr>\n",
       "    <tr>\n",
       "      <th>PLAYER POSITION</th>\n",
       "      <th></th>\n",
       "      <th></th>\n",
       "      <th></th>\n",
       "    </tr>\n",
       "  </thead>\n",
       "  <tbody>\n",
       "    <tr>\n",
       "      <th>QB</th>\n",
       "      <td>15</td>\n",
       "      <td>12</td>\n",
       "      <td>15</td>\n",
       "    </tr>\n",
       "    <tr>\n",
       "      <th>RB</th>\n",
       "      <td>20</td>\n",
       "      <td>17</td>\n",
       "      <td>20</td>\n",
       "    </tr>\n",
       "    <tr>\n",
       "      <th>TE</th>\n",
       "      <td>6</td>\n",
       "      <td>6</td>\n",
       "      <td>6</td>\n",
       "    </tr>\n",
       "    <tr>\n",
       "      <th>WR</th>\n",
       "      <td>42</td>\n",
       "      <td>40</td>\n",
       "      <td>42</td>\n",
       "    </tr>\n",
       "  </tbody>\n",
       "</table>\n",
       "</div>"
      ],
      "text/plain": [
       "                 PLAYER NAME  2019 FPTS  2020 FPTS\n",
       "PLAYER POSITION                                   \n",
       "QB                        15         12         15\n",
       "RB                        20         17         20\n",
       "TE                         6          6          6\n",
       "WR                        42         40         42"
      ]
     },
     "execution_count": 23,
     "metadata": {},
     "output_type": "execute_result"
    }
   ],
   "source": [
    "#between 10 and 15 \n",
    "players_scoring_bw_10_15_2020 = names_2019_2020.loc[(names_2019_2020['2020 FPTS'] > 160) & (names_2019_2020['2020 FPTS'] < 15*16)].sort_values('2020 FPTS').groupby('PLAYER POSITION').count()\n",
    "players_scoring_bw_10_15_2020"
   ]
  },
  {
   "cell_type": "code",
   "execution_count": 24,
   "metadata": {},
   "outputs": [
    {
     "data": {
      "image/png": "[encoded data removed]",
      "text/plain": [
       "<Figure size 720x504 with 1 Axes>"
      ]
     },
     "metadata": {
      "needs_background": "light"
     },
     "output_type": "display_data"
    }
   ],
   "source": [
    "plt.figure(figsize=(10,7))\n",
    "\n",
    "plt.bar(players_scoring_bw_10_15_2020.index,players_scoring_bw_10_15_2020['PLAYER NAME'].to_list())\n",
    "plt.title('Number of players expected to score between 10 and 15 points per game, grouped by position')\n",
    "plt.xlabel('Position')\n",
    "plt.ylabel('Number of players')\n",
    "plt.show()"
   ]
  },
  {
   "cell_type": "markdown",
   "metadata": {},
   "source": [
    "# What does the distribution of projected points look like?"
   ]
  },
  {
   "cell_type": "code",
   "execution_count": 25,
   "metadata": {},
   "outputs": [
    {
     "data": {
      "text/html": [
       "<div>\n",
       "<style scoped>\n",
       "    .dataframe tbody tr th:only-of-type {\n",
       "        vertical-align: middle;\n",
       "    }\n",
       "\n",
       "    .dataframe tbody tr th {\n",
       "        vertical-align: top;\n",
       "    }\n",
       "\n",
       "    .dataframe thead th {\n",
       "        text-align: right;\n",
       "    }\n",
       "</style>\n",
       "<table border=\"1\" class=\"dataframe\">\n",
       "  <thead>\n",
       "    <tr style=\"text-align: right;\">\n",
       "      <th></th>\n",
       "      <th>PLAYER NAME</th>\n",
       "      <th>PLAYER POSITION</th>\n",
       "      <th>2019 FPTS</th>\n",
       "      <th>2020 FPTS</th>\n",
       "    </tr>\n",
       "  </thead>\n",
       "  <tbody>\n",
       "    <tr>\n",
       "      <th>0</th>\n",
       "      <td>Lamar Jackson</td>\n",
       "      <td>QB</td>\n",
       "      <td>415.68</td>\n",
       "      <td>338.23</td>\n",
       "    </tr>\n",
       "    <tr>\n",
       "      <th>0</th>\n",
       "      <td>Christian McCaffrey</td>\n",
       "      <td>RB</td>\n",
       "      <td>471.20</td>\n",
       "      <td>333.95</td>\n",
       "    </tr>\n",
       "    <tr>\n",
       "      <th>1</th>\n",
       "      <td>Patrick Mahomes</td>\n",
       "      <td>QB</td>\n",
       "      <td>287.04</td>\n",
       "      <td>332.66</td>\n",
       "    </tr>\n",
       "    <tr>\n",
       "      <th>2</th>\n",
       "      <td>Deshaun Watson</td>\n",
       "      <td>QB</td>\n",
       "      <td>320.98</td>\n",
       "      <td>314.06</td>\n",
       "    </tr>\n",
       "    <tr>\n",
       "      <th>3</th>\n",
       "      <td>Dak Prescott</td>\n",
       "      <td>QB</td>\n",
       "      <td>337.78</td>\n",
       "      <td>301.71</td>\n",
       "    </tr>\n",
       "    <tr>\n",
       "      <th>...</th>\n",
       "      <td>...</td>\n",
       "      <td>...</td>\n",
       "      <td>...</td>\n",
       "      <td>...</td>\n",
       "    </tr>\n",
       "    <tr>\n",
       "      <th>337</th>\n",
       "      <td>Marken Michel</td>\n",
       "      <td>WR</td>\n",
       "      <td>NaN</td>\n",
       "      <td>0.00</td>\n",
       "    </tr>\n",
       "    <tr>\n",
       "      <th>338</th>\n",
       "      <td>Sammie Coates Jr.</td>\n",
       "      <td>WR</td>\n",
       "      <td>NaN</td>\n",
       "      <td>0.00</td>\n",
       "    </tr>\n",
       "    <tr>\n",
       "      <th>339</th>\n",
       "      <td>Antonio Callaway</td>\n",
       "      <td>WR</td>\n",
       "      <td>16.90</td>\n",
       "      <td>0.00</td>\n",
       "    </tr>\n",
       "    <tr>\n",
       "      <th>49</th>\n",
       "      <td>Tyler Bass</td>\n",
       "      <td>K</td>\n",
       "      <td>NaN</td>\n",
       "      <td>0.00</td>\n",
       "    </tr>\n",
       "    <tr>\n",
       "      <th>190</th>\n",
       "      <td>--</td>\n",
       "      <td>--</td>\n",
       "      <td>NaN</td>\n",
       "      <td>NaN</td>\n",
       "    </tr>\n",
       "  </tbody>\n",
       "</table>\n",
       "<p>1002 rows × 4 columns</p>\n",
       "</div>"
      ],
      "text/plain": [
       "             PLAYER NAME PLAYER POSITION  2019 FPTS  2020 FPTS\n",
       "0          Lamar Jackson              QB     415.68     338.23\n",
       "0    Christian McCaffrey              RB     471.20     333.95\n",
       "1        Patrick Mahomes              QB     287.04     332.66\n",
       "2         Deshaun Watson              QB     320.98     314.06\n",
       "3           Dak Prescott              QB     337.78     301.71\n",
       "..                   ...             ...        ...        ...\n",
       "337        Marken Michel              WR        NaN       0.00\n",
       "338    Sammie Coates Jr.              WR        NaN       0.00\n",
       "339     Antonio Callaway              WR      16.90       0.00\n",
       "49            Tyler Bass               K        NaN       0.00\n",
       "190                   --              --        NaN        NaN\n",
       "\n",
       "[1002 rows x 4 columns]"
      ]
     },
     "execution_count": 25,
     "metadata": {},
     "output_type": "execute_result"
    }
   ],
   "source": [
    "sorted_by_proj = names_2019_2020.sort_values('2020 FPTS', ascending = False)\n",
    "sorted_by_proj"
   ]
  },
  {
   "cell_type": "code",
   "execution_count": 26,
   "metadata": {},
   "outputs": [
    {
     "data": {
      "text/html": [
       "<div>\n",
       "<style scoped>\n",
       "    .dataframe tbody tr th:only-of-type {\n",
       "        vertical-align: middle;\n",
       "    }\n",
       "\n",
       "    .dataframe tbody tr th {\n",
       "        vertical-align: top;\n",
       "    }\n",
       "\n",
       "    .dataframe thead th {\n",
       "        text-align: right;\n",
       "    }\n",
       "</style>\n",
       "<table border=\"1\" class=\"dataframe\">\n",
       "  <thead>\n",
       "    <tr style=\"text-align: right;\">\n",
       "      <th></th>\n",
       "      <th>PLAYER NAME</th>\n",
       "      <th>PLAYER POSITION</th>\n",
       "      <th>2019 FPTS</th>\n",
       "      <th>2020 FPTS</th>\n",
       "    </tr>\n",
       "  </thead>\n",
       "  <tbody>\n",
       "    <tr>\n",
       "      <th>0</th>\n",
       "      <td>Lamar Jackson</td>\n",
       "      <td>QB</td>\n",
       "      <td>415.68</td>\n",
       "      <td>338.23</td>\n",
       "    </tr>\n",
       "    <tr>\n",
       "      <th>0</th>\n",
       "      <td>Christian McCaffrey</td>\n",
       "      <td>RB</td>\n",
       "      <td>471.20</td>\n",
       "      <td>333.95</td>\n",
       "    </tr>\n",
       "    <tr>\n",
       "      <th>1</th>\n",
       "      <td>Patrick Mahomes</td>\n",
       "      <td>QB</td>\n",
       "      <td>287.04</td>\n",
       "      <td>332.66</td>\n",
       "    </tr>\n",
       "    <tr>\n",
       "      <th>2</th>\n",
       "      <td>Deshaun Watson</td>\n",
       "      <td>QB</td>\n",
       "      <td>320.98</td>\n",
       "      <td>314.06</td>\n",
       "    </tr>\n",
       "    <tr>\n",
       "      <th>3</th>\n",
       "      <td>Dak Prescott</td>\n",
       "      <td>QB</td>\n",
       "      <td>337.78</td>\n",
       "      <td>301.71</td>\n",
       "    </tr>\n",
       "    <tr>\n",
       "      <th>...</th>\n",
       "      <td>...</td>\n",
       "      <td>...</td>\n",
       "      <td>...</td>\n",
       "      <td>...</td>\n",
       "    </tr>\n",
       "    <tr>\n",
       "      <th>199</th>\n",
       "      <td>DeAndrew White</td>\n",
       "      <td>WR</td>\n",
       "      <td>9.10</td>\n",
       "      <td>0.12</td>\n",
       "    </tr>\n",
       "    <tr>\n",
       "      <th>151</th>\n",
       "      <td>Malcolm Perry</td>\n",
       "      <td>RB</td>\n",
       "      <td>NaN</td>\n",
       "      <td>0.12</td>\n",
       "    </tr>\n",
       "    <tr>\n",
       "      <th>198</th>\n",
       "      <td>Trent Sherfield</td>\n",
       "      <td>WR</td>\n",
       "      <td>12.00</td>\n",
       "      <td>0.12</td>\n",
       "    </tr>\n",
       "    <tr>\n",
       "      <th>150</th>\n",
       "      <td>Trenton Cannon</td>\n",
       "      <td>RB</td>\n",
       "      <td>0.00</td>\n",
       "      <td>0.12</td>\n",
       "    </tr>\n",
       "    <tr>\n",
       "      <th>190</th>\n",
       "      <td>--</td>\n",
       "      <td>--</td>\n",
       "      <td>NaN</td>\n",
       "      <td>NaN</td>\n",
       "    </tr>\n",
       "  </tbody>\n",
       "</table>\n",
       "<p>589 rows × 4 columns</p>\n",
       "</div>"
      ],
      "text/plain": [
       "             PLAYER NAME PLAYER POSITION  2019 FPTS  2020 FPTS\n",
       "0          Lamar Jackson              QB     415.68     338.23\n",
       "0    Christian McCaffrey              RB     471.20     333.95\n",
       "1        Patrick Mahomes              QB     287.04     332.66\n",
       "2         Deshaun Watson              QB     320.98     314.06\n",
       "3           Dak Prescott              QB     337.78     301.71\n",
       "..                   ...             ...        ...        ...\n",
       "199       DeAndrew White              WR       9.10       0.12\n",
       "151        Malcolm Perry              RB        NaN       0.12\n",
       "198      Trent Sherfield              WR      12.00       0.12\n",
       "150       Trenton Cannon              RB       0.00       0.12\n",
       "190                   --              --        NaN        NaN\n",
       "\n",
       "[589 rows x 4 columns]"
      ]
     },
     "execution_count": 26,
     "metadata": {},
     "output_type": "execute_result"
    }
   ],
   "source": [
    "#drop all players who are expected zero points in 2020\n",
    "sorted_by_proj = sorted_by_proj[sorted_by_proj['2020 FPTS'] != 0]\n",
    "sorted_by_proj"
   ]
  },
  {
   "cell_type": "code",
   "execution_count": 27,
   "metadata": {},
   "outputs": [
    {
     "data": {
      "image/png": "[encoded data removed]",
      "text/plain": [
       "<Figure size 720x504 with 1 Axes>"
      ]
     },
     "metadata": {
      "needs_background": "light"
     },
     "output_type": "display_data"
    }
   ],
   "source": [
    "plt.figure(figsize=(10,7))\n",
    "plt.scatter(list(range(len(sorted_by_proj))), sorted_by_proj['2020 FPTS'], s =1)\n",
    "plt.show()"
   ]
  },
  {
   "cell_type": "markdown",
   "metadata": {},
   "source": [
    "# Plot projections based on position"
   ]
  },
  {
   "cell_type": "markdown",
   "metadata": {},
   "source": []
  },
  {
   "cell_type": "code",
   "execution_count": null,
   "metadata": {},
   "outputs": [],
   "source": []
  }
 ],
 "metadata": {
  "kernelspec": {
   "display_name": "Python [conda env:PythonData] *",
   "language": "python",
   "name": "conda-env-PythonData-py"
  },
  "language_info": {
   "codemirror_mode": {
    "name": "ipython",
    "version": 3
   },
   "file_extension": ".py",
   "mimetype": "text/x-python",
   "name": "python",
   "nbconvert_exporter": "python",
   "pygments_lexer": "ipython3",
   "version": "3.6.13"
  }
 },
 "nbformat": 4,
 "nbformat_minor": 4
}
